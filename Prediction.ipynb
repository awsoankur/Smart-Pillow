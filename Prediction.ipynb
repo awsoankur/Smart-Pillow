{
 "cells": [
  {
   "cell_type": "code",
   "execution_count": 2,
   "metadata": {
    "id": "1kXfaGqy2uai"
   },
   "outputs": [],
   "source": [
    "import os\n",
    "os.environ[\"CUDA_VISIBLE_DEVICES\"] = '-1'\n",
    "import numpy as np\n",
    "import tensorflow as tf"
   ]
  },
  {
   "cell_type": "code",
   "execution_count": 4,
   "metadata": {},
   "outputs": [
    {
     "data": {
      "text/plain": [
       "[name: \"/device:CPU:0\"\n",
       " device_type: \"CPU\"\n",
       " memory_limit: 268435456\n",
       " locality {\n",
       " }\n",
       " incarnation: 3803695519756444986\n",
       " xla_global_id: -1]"
      ]
     },
     "execution_count": 4,
     "metadata": {},
     "output_type": "execute_result"
    }
   ],
   "source": [
    "tf.test.is_built_with_cuda()\n",
    "\n",
    "from tensorflow.python.client import device_lib\n",
    "tf.config.list_physical_devices('GPU')\n",
    "\n",
    "device_lib.list_local_devices()"
   ]
  },
  {
   "cell_type": "code",
   "execution_count": 5,
   "metadata": {
    "scrolled": true
   },
   "outputs": [],
   "source": [
    "modelw = tf.keras.models.load_model('/home/era/yukkta/apnea.h5/')"
   ]
  },
  {
   "cell_type": "code",
   "execution_count": 6,
   "metadata": {},
   "outputs": [],
   "source": [
    "X_train = np.load('/home/era/yukkta/train_input.npy', allow_pickle=True)\n",
    "y_train = np.load('/home/era/yukkta/train_label.npy', allow_pickle=True)"
   ]
  },
  {
   "cell_type": "code",
   "execution_count": 7,
   "metadata": {},
   "outputs": [],
   "source": [
    "X1 = []\n",
    "X2 = []\n",
    "for index in range(len(X_train)):\n",
    "    X1.append([X_train[index][0], X_train[index][1]])\n",
    "    X2.append([X_train[index][2], X_train[index][3]])\n",
    "X_train1, X_train2 = np.array(X1).astype('float64'), np.array(X2).astype('float64')\n",
    "X_train1 = np.transpose(X_train1, (0, 2, 1))"
   ]
  },
  {
   "cell_type": "code",
   "execution_count": 8,
   "metadata": {},
   "outputs": [
    {
     "name": "stdout",
     "output_type": "stream",
     "text": [
      "16/16 [==============================] - 4s 228ms/step\n",
      "16/16 [==============================] - 4s 218ms/step - loss: 0.1205 - accuracy: 0.9611\n"
     ]
    }
   ],
   "source": [
    "y_pred = modelw.predict([X_train1, X_train2])\n",
    "final = np.where(y_pred > 0.5, 1, 0)\n",
    "scores = modelw.evaluate([X_train1, X_train2], y_train)"
   ]
  },
  {
   "cell_type": "code",
   "execution_count": null,
   "metadata": {},
   "outputs": [],
   "source": [
    "return final"
   ]
  }
 ],
 "metadata": {
  "colab": {
   "provenance": []
  },
  "gpuClass": "standard",
  "kernelspec": {
   "display_name": "Python 3 (ipykernel)",
   "language": "python",
   "name": "python3"
  },
  "language_info": {
   "codemirror_mode": {
    "name": "ipython",
    "version": 3
   },
   "file_extension": ".py",
   "mimetype": "text/x-python",
   "name": "python",
   "nbconvert_exporter": "python",
   "pygments_lexer": "ipython3",
   "version": "3.9.13"
  }
 },
 "nbformat": 4,
 "nbformat_minor": 1
}
