{
 "cells": [
  {
   "cell_type": "code",
   "execution_count": 2,
   "metadata": {
    "id": "1kXfaGqy2uai"
   },
   "outputs": [],
   "source": [
    "import os\n",
    "os.environ[\"CUDA_VISIBLE_DEVICES\"] = '-1'\n",
    "import numpy as np\n",
    "import csv\n",
    "import wfdb\n",
    "from hrv.filters import quotient, moving_median\n",
    "from scipy import interpolate"
   ]
  },
  {
   "cell_type": "code",
   "execution_count": 3,
   "metadata": {
    "id": "J-FaTS_Y2tsu"
   },
   "outputs": [],
   "source": [
    "FS = 100.0\n",
    "MARGIN = 10\n",
    "FS_INTP = 4\n",
    "MAX_HR = 300.0\n",
    "MIN_HR = 20.0\n",
    "MIN_RRI = 1.0 / (MAX_HR / 60.0) * 1000\n",
    "MAX_RRI = 1.0 / (MIN_HR / 60.0) * 1000"
   ]
  },
  {
   "cell_type": "code",
   "execution_count": 8,
   "metadata": {
    "id": "vZsMHUXP3PQ_"
   },
   "outputs": [],
   "source": [
    "path = '/home/era/yukkta'\n",
    "os.chdir(path)\n",
    "data_path = '/home/era/yukkta/apnea-ecg-database-1.0.0/'\n",
    "\n",
    "data_name= ['a01', 'a02', 'a03', 'a04', 'a05','a06', 'a07', 'a08', 'a09', 'a10', 'a11', 'a12', 'a13', 'a14', 'a15', 'a16', 'a17', 'a18', 'a19', 'a20', 'b01', 'b02', 'b03', 'b04', 'b05', 'c01', 'c02', 'c03', 'c04', 'c05', 'c06', 'c07', 'c08', 'c09', 'c10']\n",
    "\n",
    "file = open(\"age.csv\", \"r\")\n",
    "age = list(csv.reader(file, delimiter=\",\"))\n",
    "age = age[0]\n",
    "for i in range(len(age)):\n",
    "    age[i] = int(age[i])\n",
    "file.close()\n",
    "\n",
    "\n",
    "file = open(\"sex.csv\", \"r\")\n",
    "sex = list(csv.reader(file, delimiter=\",\"))\n",
    "sex = sex[0]\n",
    "for i in range(len(sex)):\n",
    "    sex[i] = int(sex[i])\n",
    "file.close()"
   ]
  },
  {
   "cell_type": "code",
   "execution_count": 9,
   "metadata": {
    "id": "7FHp9CXY3lWV"
   },
   "outputs": [],
   "source": [
    "input_array = []\n",
    "label_array = []"
   ]
  },
  {
   "cell_type": "code",
   "execution_count": 10,
   "metadata": {
    "colab": {
     "base_uri": "https://localhost:8080/"
    },
    "id": "Z7h6NCyH3o--",
    "outputId": "c035c230-3531-415f-a5de-8ab8a983ff09"
   },
   "outputs": [
    {
     "name": "stdout",
     "output_type": "stream",
     "text": [
      "a01\n",
      "a02\n",
      "a03\n",
      "a04\n",
      "a05\n",
      "a06\n",
      "a07\n",
      "a08\n",
      "a09\n",
      "a10\n",
      "a11\n",
      "a12\n",
      "a13\n",
      "a14\n",
      "a15\n",
      "a16\n",
      "a17\n",
      "a18\n",
      "a19\n",
      "a20\n",
      "b01\n",
      "b02\n",
      "b03\n",
      "b04\n",
      "b05\n",
      "c01\n",
      "c02\n",
      "c03\n",
      "c04\n",
      "c05\n",
      "c06\n",
      "c07\n",
      "c08\n",
      "c09\n",
      "c10\n"
     ]
    },
    {
     "name": "stderr",
     "output_type": "stream",
     "text": [
      "/home/era/anaconda3/lib/python3.9/site-packages/numpy/lib/npyio.py:528: VisibleDeprecationWarning: Creating an ndarray from ragged nested sequences (which is a list-or-tuple of lists-or-tuples-or ndarrays with different lengths or shapes) is deprecated. If you meant to do this, you must specify 'dtype=object' when creating the ndarray.\n",
      "  arr = np.asanyarray(arr)\n"
     ]
    }
   ],
   "source": [
    "for data_index in range(len(data_name)):\n",
    "    print (data_name[data_index])\n",
    "    win_num = len(wfdb.rdann(os.path.join(data_path,data_name[data_index]), 'apn').symbol)\n",
    "    signals, fields = wfdb.rdsamp(os.path.join(data_path,data_name[data_index]))\n",
    "    for index in range(1, win_num):\n",
    "        samp_from = index * 60 * FS # 60 seconds\n",
    "        samp_to = samp_from + 60 * FS  # 60 seconds\n",
    "\n",
    "        qrs_ann = wfdb.rdann(data_path + data_name[data_index], 'qrs', sampfrom=samp_from - (MARGIN*100), sampto=samp_to + (MARGIN*100)).sample\n",
    "        apn_ann = wfdb.rdann(data_path + data_name[data_index], 'apn', sampfrom=samp_from, sampto=samp_to-1).symbol\n",
    "        \n",
    "        \n",
    "        interval = int(FS * 0.250)\n",
    "        qrs_amp = []\n",
    "        for index in range(len(qrs_ann)):\n",
    "            curr_qrs = qrs_ann[index]\n",
    "            amp = np.max(signals[curr_qrs-interval:curr_qrs+interval])\n",
    "            qrs_amp.append(amp)\n",
    "            \n",
    "    rri = np.diff(qrs_ann)\n",
    "    rri_ms = rri.astype('float') / FS * 1000.0\n",
    "\n",
    "        rri_filt = moving_median(rri_ms)\n",
    "\n",
    "        if len(rri_filt) > 5 and (np.min(rri_filt) >= MIN_RRI and np.max(rri_filt) <= MAX_RRI):\n",
    "\n",
    "            rri_time = np.cumsum(rri_filt) / 1000.0  # make it seconds\n",
    "            time_rri = rri_time - rri_time[0]  \n",
    "\n",
    "            time_rri_interp = np.arange(0, time_rri[-1], 1 / float(FS_INTP))\n",
    "            tck = interpolate.splrep(time_rri, rri_filt, s=0)\n",
    "            rri_interp = interpolate.splev(time_rri_interp, tck, der=0)\n",
    "            time_intp, rri_intp = time_rri_interp, rri_interp\n",
    "\n",
    "\n",
    "            time_qrs = qrs_ann / float(FS)\n",
    "            time_qrs = time_qrs - time_qrs[0]\n",
    "            time_qrs_interp = np.arange(0, time_qrs[-1], 1/float(FS_INTP))\n",
    "            tck = interpolate.splrep(time_qrs, qrs_amp, s=0)\n",
    "            qrs_interp = interpolate.splev(time_qrs_interp, tck, der=0)\n",
    "            qrs_time_intp, qrs_intp = time_qrs_interp, qrs_interp\n",
    "\n",
    "\n",
    "            rri_intp = rri_intp[(time_intp >= MARGIN) & (time_intp < (60+MARGIN))]\n",
    "            qrs_intp = qrs_intp[(qrs_time_intp >= MARGIN) & (qrs_time_intp < (60 + MARGIN))]\n",
    "\n",
    "\n",
    "            if len(rri_intp) != (FS_INTP * 60):\n",
    "                skip = 1\n",
    "            else:\n",
    "                skip = 0\n",
    "\n",
    "            if skip == 0:\n",
    "                rri_intp = rri_intp - np.mean(rri_intp)\n",
    "                qrs_intp = qrs_intp - np.mean(qrs_intp)\n",
    "                if apn_ann[0] == 'N': # Normal\n",
    "                    label = 0.0\n",
    "                elif apn_ann[0] == 'A': # Apnea\n",
    "                    label = 1.0\n",
    "                else:\n",
    "                    label = 2.0\n",
    "\n",
    "                input_array.append([rri_intp, qrs_intp, age[data_index], sex[data_index]])\n",
    "                label_array.append(label)\n",
    "np.save('input.npy', input_array)\n",
    "np.save('label.npy', label_array)"
   ]
  }
 ],
 "metadata": {
  "colab": {
   "provenance": []
  },
  "gpuClass": "standard",
  "kernelspec": {
   "display_name": "Python 3 (ipykernel)",
   "language": "python",
   "name": "python3"
  },
  "language_info": {
   "codemirror_mode": {
    "name": "ipython",
    "version": 3
   },
   "file_extension": ".py",
   "mimetype": "text/x-python",
   "name": "python",
   "nbconvert_exporter": "python",
   "pygments_lexer": "ipython3",
   "version": "3.9.13"
  }
 },
 "nbformat": 4,
 "nbformat_minor": 1
}
