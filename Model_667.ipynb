{
 "cells": [
  {
   "cell_type": "code",
   "execution_count": 2,
   "metadata": {
    "id": "1kXfaGqy2uai"
   },
   "outputs": [],
   "source": [
    "import os\n",
    "os.environ[\"CUDA_VISIBLE_DEVICES\"] = '-1'\n",
    "import numpy as np\n",
    "import matplotlib.pyplot as plt\n",
    "import time\n",
    "import tensorflow as tf\n",
    "import wfdb\n",
    "from sklearn.utils import class_weight"
   ]
  },
  {
   "cell_type": "code",
   "execution_count": 4,
   "metadata": {},
   "outputs": [
    {
     "data": {
      "text/plain": [
       "[name: \"/device:CPU:0\"\n",
       " device_type: \"CPU\"\n",
       " memory_limit: 268435456\n",
       " locality {\n",
       " }\n",
       " incarnation: 2127238860500514717\n",
       " xla_global_id: -1]"
      ]
     },
     "execution_count": 4,
     "metadata": {},
     "output_type": "execute_result"
    }
   ],
   "source": [
    "tf.test.is_built_with_cuda()\n",
    "\n",
    "from tensorflow.python.client import device_lib\n",
    "tf.config.list_physical_devices('GPU')\n",
    "\n",
    "device_lib.list_local_devices()"
   ]
  },
  {
   "cell_type": "code",
   "execution_count": 5,
   "metadata": {},
   "outputs": [],
   "source": [
    "save_here = os.path.join(\"/home/era/yukkta\", \"apn.h5\")\n",
    "cp_callback = tf.keras.callbacks.ModelCheckpoint(\n",
    "    filepath=save_here,\n",
    "    monitor='val_accuracy',\n",
    "    mode='max',\n",
    "    save_best_only=True)"
   ]
  },
  {
   "cell_type": "code",
   "execution_count": 6,
   "metadata": {},
   "outputs": [],
   "source": [
    "sequence_length = 240"
   ]
  },
  {
   "cell_type": "code",
   "execution_count": 7,
   "metadata": {
    "id": "YCOb_fPRNCJc"
   },
   "outputs": [],
   "source": [
    "X_train = np.load('/home/era/yukkta/train_input.npy', allow_pickle=True)\n",
    "y_train = np.load('/home/era/yukkta/train_label.npy', allow_pickle=True)\n",
    "\n",
    "X_test = np.load('/home/era/yukkta/test_input.npy', allow_pickle=True)\n",
    "y_test = np.load('/home/era/yukkta/test_label.npy', allow_pickle=True)\n",
    "\n",
    "\n",
    "X1 = []\n",
    "X2 = []\n",
    "for index in range(len(X_train)):\n",
    "    X1.append([X_train[index][0], X_train[index][1]])\n",
    "    X2.append([X_train[index][2], X_train[index][3]])\n",
    "X_train1, X_train2 = np.array(X1).astype('float64'), np.array(X2).astype('float64')\n",
    "\n",
    "\n",
    "\n",
    "X1 = []\n",
    "X2 = []\n",
    "for index in range(len(X_test)):\n",
    "    X1.append([X_test[index][0], X_test[index][1]])\n",
    "    X2.append([X_test[index][2], X_test[index][3]])\n",
    "X_test1, X_test2 = np.array(X1).astype('float64'), np.array(X2).astype('float64')\n",
    "\n",
    "X_train1 = np.transpose(X_train1, (0, 2, 1))\n",
    "\n",
    "X_test1 = np.transpose(X_test1, (0, 2, 1))\n",
    "\n",
    "class_w = class_weight.compute_class_weight(class_weight = \"balanced\", classes = np.unique(y_train), y = y_train)"
   ]
  },
  {
   "cell_type": "code",
   "execution_count": 8,
   "metadata": {},
   "outputs": [
    {
     "name": "stdout",
     "output_type": "stream",
     "text": [
      "Compilation Time :  0.007309913635253906\n",
      "Model: \"model\"\n",
      "__________________________________________________________________________________________________\n",
      " Layer (type)                   Output Shape         Param #     Connected to                     \n",
      "==================================================================================================\n",
      " input_1 (InputLayer)           [(None, 240, 2)]     0           []                               \n",
      "                                                                                                  \n",
      " lstm (LSTM)                    (None, 240, 256)     265216      ['input_1[0][0]']                \n",
      "                                                                                                  \n",
      " lstm_1 (LSTM)                  (None, 240, 256)     525312      ['lstm[0][0]']                   \n",
      "                                                                                                  \n",
      " input_2 (InputLayer)           [(None, 2)]          0           []                               \n",
      "                                                                                                  \n",
      " lstm_2 (LSTM)                  (None, 256)          525312      ['lstm_1[0][0]']                 \n",
      "                                                                                                  \n",
      " dense (Dense)                  (None, 32)           96          ['input_2[0][0]']                \n",
      "                                                                                                  \n",
      " concatenate (Concatenate)      (None, 288)          0           ['lstm_2[0][0]',                 \n",
      "                                                                  'dense[0][0]']                  \n",
      "                                                                                                  \n",
      " dense_1 (Dense)                (None, 8)            2312        ['concatenate[0][0]']            \n",
      "                                                                                                  \n",
      " dense_2 (Dense)                (None, 1)            9           ['dense_1[0][0]']                \n",
      "                                                                                                  \n",
      " activation (Activation)        (None, 1)            0           ['dense_2[0][0]']                \n",
      "                                                                                                  \n",
      "==================================================================================================\n",
      "Total params: 1,318,257\n",
      "Trainable params: 1,318,257\n",
      "Non-trainable params: 0\n",
      "__________________________________________________________________________________________________\n"
     ]
    }
   ],
   "source": [
    "layers = {'input': 2, 'hidden1': 256, 'hidden2': 256, 'hidden3': 256, 'output': 1}\n",
    "x1 = tf.keras.layers.Input(shape=(sequence_length, layers['input']))\n",
    "m1 = tf.keras.layers.LSTM(layers['hidden1'],                   \n",
    "                recurrent_dropout=0.5,\n",
    "               return_sequences=True)(x1)\n",
    "m1 = tf.keras.layers.LSTM(\n",
    "        layers['hidden2'],\n",
    "        recurrent_dropout=0.5,\n",
    "        return_sequences=True)(m1)\n",
    "\n",
    "m1 = tf.keras.layers.LSTM(\n",
    "        layers['hidden3'],\n",
    "        recurrent_dropout=0.5,\n",
    "        return_sequences=False)(m1)\n",
    "\n",
    "x2 = tf.keras.layers.Input(shape=(2,))\n",
    "m2 = tf.keras.layers.Dense(32)(x2)\n",
    "\n",
    "merged = tf.keras.layers.Concatenate(axis=1)([m1, m2])\n",
    "\n",
    "out = tf.keras.layers.Dense(8)(merged)\n",
    "out = tf.keras.layers.Dense(layers['output'], kernel_initializer='normal')(out)\n",
    "out = tf.keras.layers.Activation(\"sigmoid\")(out)\n",
    "\n",
    "\n",
    "model = tf.keras.models.Model(inputs=[x1, x2], outputs=[out])\n",
    "\n",
    "model.compile(loss=\"binary_crossentropy\", optimizer=\"adam\",\n",
    "              metrics = ['accuracy'])\n",
    "\n",
    "\n",
    "model.summary()"
   ]
  },
  {
   "cell_type": "code",
   "execution_count": null,
   "metadata": {},
   "outputs": [],
   "source": [
    "class_w = {i : class_w[i] for i in range(2)}\n",
    "history = model.fit([X_train1, X_train2], y_train, epochs=20, batch_size=256, validation_split=0.1, class_weight=class_w, callbacks=[cp_callback])"
   ]
  }
 ],
 "metadata": {
  "colab": {
   "provenance": []
  },
  "gpuClass": "standard",
  "kernelspec": {
   "display_name": "Python 3 (ipykernel)",
   "language": "python",
   "name": "python3"
  },
  "language_info": {
   "codemirror_mode": {
    "name": "ipython",
    "version": 3
   },
   "file_extension": ".py",
   "mimetype": "text/x-python",
   "name": "python",
   "nbconvert_exporter": "python",
   "pygments_lexer": "ipython3",
   "version": "3.9.13"
  }
 },
 "nbformat": 4,
 "nbformat_minor": 1
}
